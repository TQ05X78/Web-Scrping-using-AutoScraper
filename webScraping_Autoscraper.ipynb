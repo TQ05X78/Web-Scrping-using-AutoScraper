{
 "cells": [
  {
   "cell_type": "code",
   "execution_count": 1,
   "id": "5757dead",
   "metadata": {},
   "outputs": [
    {
     "name": "stdout",
     "output_type": "stream",
     "text": [
      "Collecting autoscraper\n",
      "  Downloading autoscraper-1.1.14-py3-none-any.whl (10 kB)\n",
      "Requirement already satisfied: lxml in ./anaconda3/lib/python3.9/site-packages (from autoscraper) (4.9.1)\n",
      "Requirement already satisfied: requests in ./anaconda3/lib/python3.9/site-packages (from autoscraper) (2.28.1)\n",
      "Collecting bs4\n",
      "  Downloading bs4-0.0.1.tar.gz (1.1 kB)\n",
      "  Preparing metadata (setup.py) ... \u001b[?25ldone\n",
      "\u001b[?25hRequirement already satisfied: beautifulsoup4 in ./anaconda3/lib/python3.9/site-packages (from bs4->autoscraper) (4.11.1)\n",
      "Requirement already satisfied: charset-normalizer<3,>=2 in ./anaconda3/lib/python3.9/site-packages (from requests->autoscraper) (2.0.4)\n",
      "Requirement already satisfied: idna<4,>=2.5 in ./anaconda3/lib/python3.9/site-packages (from requests->autoscraper) (3.3)\n",
      "Requirement already satisfied: certifi>=2017.4.17 in ./anaconda3/lib/python3.9/site-packages (from requests->autoscraper) (2022.9.14)\n",
      "Requirement already satisfied: urllib3<1.27,>=1.21.1 in ./anaconda3/lib/python3.9/site-packages (from requests->autoscraper) (1.26.11)\n",
      "Requirement already satisfied: soupsieve>1.2 in ./anaconda3/lib/python3.9/site-packages (from beautifulsoup4->bs4->autoscraper) (2.3.1)\n",
      "Building wheels for collected packages: bs4\n",
      "  Building wheel for bs4 (setup.py) ... \u001b[?25ldone\n",
      "\u001b[?25h  Created wheel for bs4: filename=bs4-0.0.1-py3-none-any.whl size=1257 sha256=0254ed698a2d1d182cbce72224974598dbced08bd7bd4743cefb6b8f1c8481cb\n",
      "  Stored in directory: /home/wolf002/.cache/pip/wheels/73/2b/cb/099980278a0c9a3e57ff1a89875ec07bfa0b6fcbebb9a8cad3\n",
      "Successfully built bs4\n",
      "Installing collected packages: bs4, autoscraper\n",
      "Successfully installed autoscraper-1.1.14 bs4-0.0.1\n"
     ]
    }
   ],
   "source": [
    "!pip install autoscraper "
   ]
  },
  {
   "cell_type": "code",
   "execution_count": 34,
   "id": "d48df136",
   "metadata": {},
   "outputs": [],
   "source": [
    "from autoscraper import AutoScraper"
   ]
  },
  {
   "cell_type": "code",
   "execution_count": 40,
   "id": "1aa26e13",
   "metadata": {},
   "outputs": [],
   "source": [
    "amazon_url=\"https://www.amazon.in/s?k=iphone\"\n",
    "wanted_list=[\"Apple iPhone 13 (128GB) - Starlight\",\"₹61,999\",\"(13,377)\"]"
   ]
  },
  {
   "cell_type": "code",
   "execution_count": 41,
   "id": "40026478",
   "metadata": {},
   "outputs": [
    {
     "name": "stdout",
     "output_type": "stream",
     "text": [
      "['Apple iPhone 12 (64GB) - Blue', 'Apple iPhone 12 (64GB) - Purple', 'Apple iPhone 12 (128GB) - Purple', 'Apple iPhone 13 (128GB) - Blue', 'Apple iPhone 14 Pro 128GB Space Black', 'Apple iPhone 14 Plus 128GB Purple', 'Apple iPhone 12 (128GB) - Blue', 'Apple iPhone 12 (64GB) - Black', 'Apple iPhone 12 (128GB) - White', 'Apple iPhone 13 (128GB) - Midnight', 'Apple iPhone 13 (128GB) - Starlight', 'Apple iPhone 14 128GB (Product) RED', 'Apple iPhone 14 Pro Max 256GB Gold', 'Apple iPhone 12 (128GB) - Black', 'Apple iPhone 13 (256GB) - Starlight', 'Apple iPhone 12 (64GB) - (Product) RED', '₹51,999', '₹59,900', '₹70,900', '₹61,999', '₹79,900', '₹1,22,990', '₹1,29,900', '₹80,999', '₹89,900', '₹56,999', '₹64,900', '₹71,999', '₹1,49,900', '₹50,900', '(29,747)', '(13,377)', '(262)', '(285)', '(452)', '(236)']\n"
     ]
    }
   ],
   "source": [
    "scraper=AutoScraper()\n",
    "result=scraper.build(amazon_url,wanted_list)\n",
    "print(result)"
   ]
  },
  {
   "cell_type": "code",
   "execution_count": 42,
   "id": "e438898c",
   "metadata": {},
   "outputs": [
    {
     "name": "stdout",
     "output_type": "stream",
     "text": [
      "{'rule_x8f7': ['Apple iPhone 12 (64GB) - Blue', 'Apple iPhone 12 (64GB) - Purple', 'Apple iPhone 12 (128GB) - Purple', 'Apple iPhone 13 (128GB) - Blue', 'Apple iPhone 14 Pro 128GB Space Black', 'Apple iPhone 14 Plus 128GB Purple', 'Apple iPhone 12 (128GB) - Blue', 'Apple iPhone 12 (64GB) - Black', 'Apple iPhone 12 (128GB) - White', 'Apple iPhone 13 (128GB) - Midnight', 'Apple iPhone 13 (128GB) - Starlight', 'Apple iPhone 14 128GB (Product) RED', 'Apple iPhone 12 (128GB) - Black', 'Apple iPhone 13 (256GB) - Starlight', 'Apple iPhone 12 (64GB) - (Product) RED', 'Apple iPhone 14 Pro 128GB Gold'], 'rule_0dm4': ['Apple iPhone 12 (64GB) - Blue', 'Apple iPhone 12 (64GB) - Purple', 'Apple iPhone 12 (128GB) - Purple', 'Apple iPhone 13 (128GB) - Blue', 'Apple iPhone 14 Pro 128GB Space Black', 'Apple iPhone 14 Plus 128GB Purple', 'Apple iPhone 12 (128GB) - Blue', 'Apple iPhone 12 (64GB) - Black', 'Apple iPhone 12 (128GB) - White', 'Apple iPhone 13 (128GB) - Midnight', 'Apple iPhone 13 (128GB) - Starlight', 'Apple iPhone 14 128GB (Product) RED', 'Apple iPhone 12 (128GB) - Black', 'Apple iPhone 13 (256GB) - Starlight', 'Apple iPhone 12 (64GB) - (Product) RED', 'Apple iPhone 14 Pro 128GB Gold'], 'rule_y37t': ['Apple iPhone 13 (128GB) - Starlight', 'Apple iPhone 12 (128GB) - Purple'], 'rule_ll5k': ['₹51,999', '₹59,900', '₹51,999', '₹59,900', '₹59,900', '₹70,900', '₹61,999', '₹79,900', '₹1,22,990', '₹1,29,900', '₹80,999', '₹89,900', '₹56,999', '₹64,900', '₹51,999', '₹59,900', '₹56,999', '₹70,900', '₹61,999', '₹79,900', '₹61,999', '₹79,900', '₹71,999', '₹79,900', '₹59,900', '₹64,900', '₹71,999', '₹89,900', '₹50,900', '₹59,900', '₹1,20,900', '₹1,29,900'], 'rule_rwd9': ['₹51,999', '₹59,900', '₹51,999', '₹59,900', '₹59,900', '₹70,900', '₹61,999', '₹79,900', '₹1,22,990', '₹1,29,900', '₹80,999', '₹89,900', '₹56,999', '₹64,900', '₹51,999', '₹59,900', '₹56,999', '₹70,900', '₹61,999', '₹79,900', '₹61,999', '₹79,900', '₹71,999', '₹79,900', '₹59,900', '₹64,900', '₹71,999', '₹89,900', '₹50,900', '₹59,900', '₹1,20,900', '₹1,29,900'], 'rule_5qy1': ['₹51,999', '₹59,900', '₹51,999', '₹59,900', '₹59,900', '₹70,900', '₹61,999', '₹79,900', '₹1,22,990', '₹1,29,900', '₹80,999', '₹89,900', '₹56,999', '₹64,900', '₹51,999', '₹59,900', '₹56,999', '₹70,900', '₹61,999', '₹79,900', '₹61,999', '₹79,900', '₹71,999', '₹79,900', '₹59,900', '₹64,900', '₹71,999', '₹89,900', '₹50,900', '₹59,900', '₹1,20,900', '₹1,29,900'], 'rule_p8le': ['₹51,999', '₹59,900', '₹51,999', '₹59,900', '₹59,900', '₹70,900', '₹61,999', '₹79,900', '₹1,22,990', '₹1,29,900', '₹80,999', '₹89,900', '₹56,999', '₹64,900', '₹51,999', '₹59,900', '₹56,999', '₹70,900', '₹61,999', '₹79,900', '₹61,999', '₹79,900', '₹71,999', '₹79,900', '₹59,900', '₹64,900', '₹71,999', '₹89,900', '₹50,900', '₹59,900', '₹1,20,900', '₹1,29,900'], 'rule_im58': ['₹51,999', '₹59,900', '₹51,999', '₹59,900', '₹59,900', '₹70,900', '₹61,999', '₹79,900', '₹1,22,990', '₹1,29,900', '₹80,999', '₹89,900', '₹56,999', '₹64,900', '₹51,999', '₹59,900', '₹56,999', '₹70,900', '₹61,999', '₹79,900', '₹61,999', '₹79,900', '₹71,999', '₹79,900', '₹59,900', '₹64,900', '₹71,999', '₹89,900', '₹50,900', '₹59,900', '₹1,20,900', '₹1,29,900'], 'rule_fqzb': ['₹51,999', '₹59,900', '₹51,999', '₹59,900', '₹59,900', '₹70,900', '₹61,999', '₹79,900', '₹1,22,990', '₹1,29,900', '₹80,999', '₹89,900', '₹56,999', '₹64,900', '₹51,999', '₹59,900', '₹56,999', '₹70,900', '₹61,999', '₹79,900', '₹61,999', '₹79,900', '₹71,999', '₹79,900', '₹59,900', '₹64,900', '₹71,999', '₹89,900', '₹50,900', '₹59,900', '₹1,20,900', '₹1,29,900'], 'rule_hckj': ['₹61,999', '₹79,900', '₹59,900', '₹70,900'], 'rule_k2jw': ['₹61,999', '₹79,900', '₹59,900', '₹70,900'], 'rule_3c8s': ['(29,747)', '(29,747)', '(29,747)', '(13,377)', '(262)', '(285)', '(29,747)', '(29,747)', '(29,747)', '(13,377)', '(13,377)', '(452)', '(29,747)', '(13,377)', '(29,747)', '(262)'], 'rule_089p': ['(29,747)', '(29,747)', '(29,747)', '(13,377)', '(262)', '(285)', '(29,747)', '(29,747)', '(29,747)', '(13,377)', '(13,377)', '(452)', '(29,747)', '(13,377)', '(29,747)', '(262)'], 'rule_h6oz': ['(29,747)', '(29,747)', '(29,747)', '(13,377)', '(262)', '(285)', '(29,747)', '(29,747)', '(29,747)', '(13,377)', '(13,377)', '(452)', '(29,747)', '(13,377)', '(29,747)', '(262)'], 'rule_p36p': ['(29,747)', '(29,747)', '(29,747)', '(13,377)', '(262)', '(285)', '(29,747)', '(29,747)', '(29,747)', '(13,377)', '(13,377)', '(452)', '(29,747)', '(13,377)', '(29,747)', '(262)'], 'rule_0sm2': ['(13,377)', '(29,747)']}\n"
     ]
    }
   ],
   "source": [
    "data=scraper.get_result_similar(amazon_url,grouped=True)\n",
    "print(data)"
   ]
  },
  {
   "cell_type": "code",
   "execution_count": 43,
   "id": "aa2b7ea2",
   "metadata": {},
   "outputs": [
    {
     "name": "stdout",
     "output_type": "stream",
     "text": [
      "['rule_x8f7', 'rule_0dm4', 'rule_y37t', 'rule_ll5k', 'rule_rwd9', 'rule_5qy1', 'rule_p8le', 'rule_im58', 'rule_fqzb', 'rule_hckj', 'rule_k2jw', 'rule_3c8s', 'rule_089p', 'rule_h6oz', 'rule_p36p', 'rule_0sm2']\n"
     ]
    }
   ],
   "source": [
    "key = list(data.keys())\n",
    "print(key)"
   ]
  },
  {
   "cell_type": "code",
   "execution_count": 44,
   "id": "ff9f537e",
   "metadata": {},
   "outputs": [],
   "source": [
    "scraper.set_rule_aliases({'rule_x8f7':'Title','rule_hckj':'Price','rule_p36p':'Rating'})\n",
    "scraper.keep_rules(['rule_x8f7','rule_hckj','rule_p36p'])\n",
    "scraper.save('amazon-search')"
   ]
  },
  {
   "cell_type": "code",
   "execution_count": 45,
   "id": "294b58f6",
   "metadata": {},
   "outputs": [],
   "source": [
    "\n",
    "results=scraper.get_result_similar('https://www.amazon.in/s?k=mi+phones',group_by_alias=True)"
   ]
  },
  {
   "cell_type": "code",
   "execution_count": 46,
   "id": "37c60a3c",
   "metadata": {},
   "outputs": [
    {
     "data": {
      "text/plain": [
       "['Amazon\\'s Choicefor \"mi phones\"',\n",
       " 'Redmi A1 (Light Green, 2GB RAM 32GB ROM) | Segment Best AI Dual Cam | 5000mAh Battery | Leather Texture Design | Android 12',\n",
       " 'Redmi 11 Prime 5G (Chrome Silver, 4GB RAM 64GB ROM) | Prime Design | MTK Dimensity 700 | 50 MP Dual Cam | 5000mAh | 7 Band 5G',\n",
       " 'Redmi 10 Power (Power Black, 8GB RAM, 128GB Storage)',\n",
       " 'Redmi 10A (Charcoal Black, 4GB RAM, 64GB Storage) | 2 Ghz Octa Core Helio G25 | 5000 mAh Battery | Finger Print Sensor | Upto 5GB RAM with RAM Booster',\n",
       " 'Redmi Note 11 (Space Black, 6GB RAM, 64GB Storage) | 90Hz FHD+ AMOLED Display | Qualcomm® SnapdragonTM 680-6nm | 33W Charger Included',\n",
       " 'Redmi Note 11 (Space Black, 4GB RAM, 64GB Storage)|90Hz FHD+ AMOLED Display | Qualcomm® SnapdragonTM 680-6nm | 33W Charger Included',\n",
       " 'Redmi 9A Sport (Carbon Black, 2GB RAM, 32GB Storage) | 2GHz Octa-core Helio G25 Processor | 5000 mAh Battery',\n",
       " 'Redmi K50i 5G (Stealth Black, 6GB RAM, 128GB Storage) | Flagship Mediatek Dimensity 8100 Processor | 144Hz Liquid FFS Display | Alexa Built-in',\n",
       " 'MI 10T 5G Cosmic Black, 8GB RAM, 128GB Storage - |Additional Exchange/No Cost EMI Offers',\n",
       " 'Mi 11X Cosmic Black 6GB RAM 128GB ROM Storage 5G | SD 870 | DisplayMate A+ rated 120Hz E4 AMOLED | 48MP Sony sensor',\n",
       " 'Redmi Note 11 (Horizon Blue, 6GB RAM, 64GB Storage)|90Hz FHD+ AMOLED Display | Qualcomm® SnapdragonTM 680-6nm | 33W Charger Included',\n",
       " 'MI Poco M2 (Slate Blue, 6GB RAM, 128GB Storage)',\n",
       " '(Renewed) Mi A2 (Black, 4GB RAM, 64GB Storage)',\n",
       " 'Redmi 11 Prime (Flashy Black, 6GB RAM, 128GB Storage) | Prime Design | High Performance Helio G99 | 50 MP AI Triple Cam | 5000 mAh | 22.5W',\n",
       " 'Redmi 9A (Nature Green, 2GB RAM, 32GB Storage) | 2GHz Octa-core Helio G25 Processor | 5000 mAh Battery',\n",
       " 'Redmi Note 10S (Frost White, 6GB RAM, 128GB Storage) - Super Amoled Display | 64 MP Quad Camera | 6 Month Free Screen Replacement (Prime only) | 33W Charger Included']"
      ]
     },
     "execution_count": 46,
     "metadata": {},
     "output_type": "execute_result"
    }
   ],
   "source": [
    "results['Title']"
   ]
  },
  {
   "cell_type": "code",
   "execution_count": 49,
   "id": "603b6bf4",
   "metadata": {},
   "outputs": [],
   "source": [
    "import pandas as pd\n",
    "df = pd.DataFrame(dict([(k,pd.Series(v)) for k,v in results.items()]))\n",
    "df.to_csv('web_Data.csv')"
   ]
  },
  {
   "cell_type": "code",
   "execution_count": 50,
   "id": "71f75682",
   "metadata": {},
   "outputs": [
    {
     "data": {
      "text/plain": [
       "<bound method NDFrame.head of                                                 Title    Price     Rating\n",
       "0                      Amazon's Choicefor \"mi phones\"   ₹8,999    (9,847)\n",
       "1   Redmi A1 (Light Green, 2GB RAM 32GB ROM) | Seg...  ₹13,499    (3,015)\n",
       "2   Redmi 11 Prime 5G (Chrome Silver, 4GB RAM 64GB...   ₹7,999      (651)\n",
       "3   Redmi 10 Power (Power Black, 8GB RAM, 128GB St...  ₹10,499   (14,574)\n",
       "4   Redmi 10A (Charcoal Black, 4GB RAM, 64GB Stora...   ₹8,499   (52,758)\n",
       "5   Redmi Note 11 (Space Black, 6GB RAM, 64GB Stor...  ₹10,499   (52,758)\n",
       "6   Redmi Note 11 (Space Black, 4GB RAM, 64GB Stor...  ₹57,998  (317,715)\n",
       "7   Redmi 9A Sport (Carbon Black, 2GB RAM, 32GB St...  ₹85,999    (7,544)\n",
       "8   Redmi K50i 5G (Stealth Black, 6GB RAM, 128GB S...   ₹7,499    (1,301)\n",
       "9   MI 10T 5G Cosmic Black, 8GB RAM, 128GB Storage...  ₹11,990    (8,219)\n",
       "10  Mi 11X Cosmic Black 6GB RAM 128GB ROM Storage ...   ₹5,949   (52,758)\n",
       "11  Redmi Note 11 (Horizon Blue, 6GB RAM, 64GB Sto...   ₹8,999      (154)\n",
       "12    MI Poco M2 (Slate Blue, 6GB RAM, 128GB Storage)      NaN      (691)\n",
       "13     (Renewed) Mi A2 (Black, 4GB RAM, 64GB Storage)      NaN      (250)\n",
       "14  Redmi 11 Prime (Flashy Black, 6GB RAM, 128GB S...      NaN   (65,282)\n",
       "15  Redmi 9A (Nature Green, 2GB RAM, 32GB Storage)...      NaN  (220,513)\n",
       "16  Redmi Note 10S (Frost White, 6GB RAM, 128GB St...      NaN        NaN>"
      ]
     },
     "execution_count": 50,
     "metadata": {},
     "output_type": "execute_result"
    }
   ],
   "source": [
    "df.head"
   ]
  },
  {
   "cell_type": "code",
   "execution_count": null,
   "id": "dcd3b255",
   "metadata": {},
   "outputs": [],
   "source": []
  },
  {
   "cell_type": "code",
   "execution_count": null,
   "id": "e93d8cdf",
   "metadata": {},
   "outputs": [],
   "source": []
  }
 ],
 "metadata": {
  "kernelspec": {
   "display_name": "Python 3",
   "language": "python",
   "name": "python3"
  },
  "language_info": {
   "codemirror_mode": {
    "name": "ipython",
    "version": 3
   },
   "file_extension": ".py",
   "mimetype": "text/x-python",
   "name": "python",
   "nbconvert_exporter": "python",
   "pygments_lexer": "ipython3",
   "version": "3.9.13"
  }
 },
 "nbformat": 4,
 "nbformat_minor": 5
}
